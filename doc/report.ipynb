{
 "cells": [
  {
   "cell_type": "code",
   "execution_count": 3,
   "id": "7ab546cd",
   "metadata": {},
   "outputs": [],
   "source": [
    "import pandas as pd\n",
    "import matplotlib.pyplot as plt"
   ]
  },
  {
   "cell_type": "code",
   "execution_count": 4,
   "id": "d3ef0582",
   "metadata": {},
   "outputs": [],
   "source": [
    "data = pd.read_csv('../res/csv/result.csv')\n",
    "wafernumber = data['Wafer']\n",
    "spec = data['Rsq of Ref. spectrum (6th)']\n",
    "one_V = data['I at 1V[A]']\n",
    "minone_V = data['I at -1V[A]']"
   ]
  },
  {
   "cell_type": "code",
   "execution_count": 5,
   "id": "bfd0c2bc",
   "metadata": {},
   "outputs": [
    {
     "data": {
      "text/plain": [
       "Text(0.5, 0.98, 'Result of wafer-to-wafer using csv file')"
      ]
     },
     "execution_count": 5,
     "metadata": {},
     "output_type": "execute_result"
    },
    {
     "data": {
      "text/plain": [
       "<Figure size 1152x720 with 0 Axes>"
      ]
     },
     "metadata": {},
     "output_type": "display_data"
    }
   ],
   "source": [
    "plt.figure(figsize=(16, 10))\n",
    "plt.suptitle('Result of wafer-to-wafer using csv file', fontsize=20)"
   ]
  },
  {
   "cell_type": "code",
   "execution_count": 6,
   "id": "1d6300fe",
   "metadata": {},
   "outputs": [
    {
     "data": {
      "image/png": "[encoded data removed]",
      "text/plain": [
       "<Figure size 432x288 with 1 Axes>"
      ]
     },
     "metadata": {
      "needs_background": "light"
     },
     "output_type": "display_data"
    }
   ],
   "source": [
    "for i in range(len(wafernumber)):\n",
    "    plt.subplot(1, 2, 1)\n",
    "    if str(wafernumber[i]) == 'D07':\n",
    "        plt.scatter(wafernumber[i], spec[i], c='red')\n",
    "    elif str(wafernumber[i]) == 'D08':\n",
    "        plt.scatter(wafernumber[i], spec[i], c='blue')\n",
    "    elif str(wafernumber[i]) == 'D23':\n",
    "        plt.scatter(wafernumber[i], spec[i], c='green')\n",
    "    elif str(wafernumber[i]) == 'D24':\n",
    "        plt.scatter(wafernumber[i], spec[i], c='purple')"
   ]
  },
  {
   "cell_type": "code",
   "execution_count": null,
   "id": "ae70271e",
   "metadata": {},
   "outputs": [],
   "source": []
  }
 ],
 "metadata": {
  "kernelspec": {
   "display_name": "Python 3 (ipykernel)",
   "language": "python",
   "name": "python3"
  },
  "language_info": {
   "codemirror_mode": {
    "name": "ipython",
    "version": 3
   },
   "file_extension": ".py",
   "mimetype": "text/x-python",
   "name": "python",
   "nbconvert_exporter": "python",
   "pygments_lexer": "ipython3",
   "version": "3.9.7"
  }
 },
 "nbformat": 4,
 "nbformat_minor": 5
}
